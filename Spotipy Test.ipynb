{
 "cells": [
  {
   "cell_type": "code",
   "execution_count": 2,
   "metadata": {},
   "outputs": [],
   "source": [
    "import spotipy\n",
    "from spotipy.oauth2 import SpotifyClientCredentials\n",
    "import numpy as np"
   ]
  },
  {
   "cell_type": "code",
   "execution_count": 3,
   "metadata": {},
   "outputs": [],
   "source": [
    "cid = 'd2ac9b58eebb4025a28f27e72e2ca133'\n",
    "\n",
    "with open(\"secret.txt\") as f:\n",
    "    secret = f.readlines()[0]\n",
    "\n",
    "client_credentials_manager = SpotifyClientCredentials(client_id=cid, client_secret=secret)\n",
    "sp = spotipy.Spotify(client_credentials_manager = client_credentials_manager)"
   ]
  },
  {
   "cell_type": "code",
   "execution_count": 4,
   "metadata": {},
   "outputs": [],
   "source": [
    "birdy_uri = 'spotify:artist:2WX2uTcsvV5OnS0inACecP'\n",
    "results = sp.artist_albums(birdy_uri, album_type='album')\n"
   ]
  },
  {
   "cell_type": "code",
   "execution_count": 5,
   "metadata": {
    "scrolled": false
   },
   "outputs": [
    {
     "data": {
      "text/plain": [
       "[{'danceability': 0.8,\n",
       "  'energy': 0.599,\n",
       "  'key': 0,\n",
       "  'loudness': -7.357,\n",
       "  'mode': 1,\n",
       "  'speechiness': 0.0344,\n",
       "  'acousticness': 0.00521,\n",
       "  'instrumentalness': 0.00547,\n",
       "  'liveness': 0.0587,\n",
       "  'valence': 0.908,\n",
       "  'tempo': 128.381,\n",
       "  'type': 'audio_features',\n",
       "  'id': '1o0nAjgZwMDK9TI4TTUSNn',\n",
       "  'uri': 'spotify:track:1o0nAjgZwMDK9TI4TTUSNn',\n",
       "  'track_href': 'https://api.spotify.com/v1/tracks/1o0nAjgZwMDK9TI4TTUSNn',\n",
       "  'analysis_url': 'https://api.spotify.com/v1/audio-analysis/1o0nAjgZwMDK9TI4TTUSNn',\n",
       "  'duration_ms': 225666,\n",
       "  'time_signature': 4}]"
      ]
     },
     "execution_count": 5,
     "metadata": {},
     "output_type": "execute_result"
    }
   ],
   "source": [
    "sp.audio_features('1o0nAjgZwMDK9TI4TTUSNn')"
   ]
  },
  {
   "cell_type": "code",
   "execution_count": 6,
   "metadata": {},
   "outputs": [],
   "source": [
    "### Full script code below ###\n",
    "\n",
    "def ari_to_features(ari):\n",
    "    import spotipy\n",
    "    from spotipy.oauth2 import SpotifyClientCredentials\n",
    "    \n",
    "    cid = 'a3464137dc59465f81d287f5626212c5'\n",
    "\n",
    "    with open(\"secret.txt\") as f:\n",
    "        secret = f.readlines()[0]\n",
    "\n",
    "    client_credentials_manager = SpotifyClientCredentials(client_id=cid, client_secret=secret)\n",
    "    sp = spotipy.Spotify(client_credentials_manager = client_credentials_manager)\n",
    "    \n",
    "    return sp.audio_features(ari)\n"
   ]
  },
  {
   "cell_type": "code",
   "execution_count": null,
   "metadata": {},
   "outputs": [],
   "source": []
  }
 ],
 "metadata": {
  "interpreter": {
   "hash": "5b0e07f91312a44e2e98ff0472e51eecbe1350ae1c77f52c88331dd04ab70bb8"
  },
  "kernelspec": {
   "display_name": "Python 3.7.10 64-bit ('base': conda)",
   "name": "python3"
  },
  "language_info": {
   "codemirror_mode": {
    "name": "ipython",
    "version": 3
   },
   "file_extension": ".py",
   "mimetype": "text/x-python",
   "name": "python",
   "nbconvert_exporter": "python",
   "pygments_lexer": "ipython3",
   "version": "3.7.10"
  }
 },
 "nbformat": 4,
 "nbformat_minor": 4
}
