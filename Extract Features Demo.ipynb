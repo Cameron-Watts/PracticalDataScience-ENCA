{
 "cells": [
  {
   "cell_type": "code",
   "execution_count": 1,
   "metadata": {},
   "outputs": [],
   "source": [
    "#Import from the other file\n",
    "from scripts.ari import ari_to_features"
   ]
  },
  {
   "cell_type": "code",
   "execution_count": 2,
   "metadata": {},
   "outputs": [
    {
     "data": {
      "text/plain": [
       "[{'danceability': 0.396,\n",
       "  'energy': 0.846,\n",
       "  'key': 4,\n",
       "  'loudness': -8.798,\n",
       "  'mode': 1,\n",
       "  'speechiness': 0.132,\n",
       "  'acousticness': 0.732,\n",
       "  'instrumentalness': 1.54e-06,\n",
       "  'liveness': 0.362,\n",
       "  'valence': 0.18,\n",
       "  'tempo': 94.135,\n",
       "  'type': 'audio_features',\n",
       "  'id': '6lpFkqtsdooLUdO5APyA8B',\n",
       "  'uri': 'spotify:track:6lpFkqtsdooLUdO5APyA8B',\n",
       "  'track_href': 'https://api.spotify.com/v1/tracks/6lpFkqtsdooLUdO5APyA8B',\n",
       "  'analysis_url': 'https://api.spotify.com/v1/audio-analysis/6lpFkqtsdooLUdO5APyA8B',\n",
       "  'duration_ms': 101661,\n",
       "  'time_signature': 4}]"
      ]
     },
     "execution_count": 2,
     "metadata": {},
     "output_type": "execute_result"
    }
   ],
   "source": [
    "#Test with input of ari as a string\n",
    "ari_to_features(\"6lpFkqtsdooLUdO5APyA8B\")"
   ]
  }
 ],
 "metadata": {
  "kernelspec": {
   "display_name": "Python 3",
   "language": "python",
   "name": "python3"
  },
  "language_info": {
   "codemirror_mode": {
    "name": "ipython",
    "version": 3
   },
   "file_extension": ".py",
   "mimetype": "text/x-python",
   "name": "python",
   "nbconvert_exporter": "python",
   "pygments_lexer": "ipython3",
   "version": "3.6.12"
  }
 },
 "nbformat": 4,
 "nbformat_minor": 4
}
